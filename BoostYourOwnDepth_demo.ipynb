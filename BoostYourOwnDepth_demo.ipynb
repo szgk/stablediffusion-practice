{
 "cells": [
  {
   "cell_type": "code",
   "execution_count": null,
   "metadata": {},
   "outputs": [],
   "source": [
    "このColabノートブックは、https://github.com/compphoto/BoostingMonocularDepth のグローバルブースティングメソッドを適用するのを支援します。これにより、ダブル推定を生成するために使用するマージングネットワークを単一のパスで実行します。\n",
    "\n",
    "手順：\n",
    "\n",
    "「ランタイム/ランタイムのタイプを変更」をGPUに設定して、GPUを使用していることを確認します。\n",
    "コードセクション1を実行します。\n",
    "低解像度のベースデプスを「/content/BoostYourOwnDepth/input/low-res」に配置します。\n",
    "（画像のR20解像度を計算したい場合は、以下の手順を実行できます: a.) RGB画像を「/content/BoostYourOwnDepth/input/rgb」に配置します。 b.) セクション2を実行して、与えられた画像に対して最適な入力解像度を取得します。 c.) b.) で得られた解像度を入力サイズとしてネットワークからデプス推定を作成します。）\n",
    "高解像度のデプスを「/content/BoostYourOwnDepth/input/high-res」に配置します。\n",
    "コードセクション3を実行します。\n",
    "結果は「src/outputs」に生成されます。"
   ]
  },
  {
   "cell_type": "code",
   "execution_count": null,
   "metadata": {},
   "outputs": [],
   "source": [
    "Section 1\n",
    "\n",
    "セクション1では、リポジトリをクローンし、マージングネットワークの重みをダウンロードしています。"
   ]
  },
  {
   "cell_type": "code",
   "execution_count": 2,
   "metadata": {},
   "outputs": [
    {
     "name": "stdout",
     "output_type": "stream",
     "text": [
      "Requirement already satisfied: pillow in /usr/local/lib/python3.10/dist-packages (9.5.0)\n",
      "Requirement already satisfied: matplotlib in /usr/local/lib/python3.10/dist-packages (3.7.1)\n",
      "Requirement already satisfied: numpy in /usr/local/lib/python3.10/dist-packages (1.25.0)\n",
      "Requirement already satisfied: torchvision in /usr/local/lib/python3.10/dist-packages (0.15.2)\n",
      "Requirement already satisfied: opencv-contrib-python in /usr/local/lib/python3.10/dist-packages (4.7.0.72)\n",
      "Requirement already satisfied: scikit-image in /usr/local/lib/python3.10/dist-packages (0.21.0)\n",
      "Requirement already satisfied: torch in /usr/local/lib/python3.10/dist-packages (2.0.1)\n",
      "Requirement already satisfied: gdown in /usr/local/lib/python3.10/dist-packages (4.7.1)\n",
      "Requirement already satisfied: pyparsing>=2.3.1 in /usr/local/lib/python3.10/dist-packages (from matplotlib) (3.1.0)\n",
      "Requirement already satisfied: fonttools>=4.22.0 in /usr/local/lib/python3.10/dist-packages (from matplotlib) (4.40.0)\n",
      "Requirement already satisfied: kiwisolver>=1.0.1 in /usr/local/lib/python3.10/dist-packages (from matplotlib) (1.4.4)\n",
      "Requirement already satisfied: contourpy>=1.0.1 in /usr/local/lib/python3.10/dist-packages (from matplotlib) (1.1.0)\n",
      "Requirement already satisfied: python-dateutil>=2.7 in /usr/local/lib/python3.10/dist-packages (from matplotlib) (2.8.2)\n",
      "Requirement already satisfied: packaging>=20.0 in /usr/local/lib/python3.10/dist-packages (from matplotlib) (23.1)\n",
      "Requirement already satisfied: cycler>=0.10 in /usr/local/lib/python3.10/dist-packages (from matplotlib) (0.11.0)\n",
      "Requirement already satisfied: requests in /usr/lib/python3/dist-packages (from torchvision) (2.22.0)\n",
      "Requirement already satisfied: tifffile>=2022.8.12 in /usr/local/lib/python3.10/dist-packages (from scikit-image) (2023.4.12)\n",
      "Requirement already satisfied: PyWavelets>=1.1.1 in /usr/local/lib/python3.10/dist-packages (from scikit-image) (1.4.1)\n",
      "Requirement already satisfied: lazy_loader>=0.2 in /usr/local/lib/python3.10/dist-packages (from scikit-image) (0.2)\n",
      "Requirement already satisfied: scipy>=1.8 in /usr/local/lib/python3.10/dist-packages (from scikit-image) (1.10.1)\n",
      "Requirement already satisfied: imageio>=2.27 in /usr/local/lib/python3.10/dist-packages (from scikit-image) (2.31.1)\n",
      "Requirement already satisfied: networkx>=2.8 in /usr/local/lib/python3.10/dist-packages (from scikit-image) (3.1)\n",
      "Requirement already satisfied: triton==2.0.0; platform_system == \"Linux\" and platform_machine == \"x86_64\" in /usr/local/lib/python3.10/dist-packages (from torch) (2.0.0)\n",
      "Requirement already satisfied: nvidia-nvtx-cu11==11.7.91; platform_system == \"Linux\" and platform_machine == \"x86_64\" in /usr/local/lib/python3.10/dist-packages (from torch) (11.7.91)\n",
      "Requirement already satisfied: typing-extensions in /usr/local/lib/python3.10/dist-packages (from torch) (4.6.3)\n",
      "Requirement already satisfied: sympy in /usr/local/lib/python3.10/dist-packages (from torch) (1.12)\n",
      "Requirement already satisfied: nvidia-cuda-nvrtc-cu11==11.7.99; platform_system == \"Linux\" and platform_machine == \"x86_64\" in /usr/local/lib/python3.10/dist-packages (from torch) (11.7.99)\n",
      "Requirement already satisfied: nvidia-cusparse-cu11==11.7.4.91; platform_system == \"Linux\" and platform_machine == \"x86_64\" in /usr/local/lib/python3.10/dist-packages (from torch) (11.7.4.91)\n",
      "Requirement already satisfied: nvidia-cuda-cupti-cu11==11.7.101; platform_system == \"Linux\" and platform_machine == \"x86_64\" in /usr/local/lib/python3.10/dist-packages (from torch) (11.7.101)\n",
      "Requirement already satisfied: nvidia-cuda-runtime-cu11==11.7.99; platform_system == \"Linux\" and platform_machine == \"x86_64\" in /usr/local/lib/python3.10/dist-packages (from torch) (11.7.99)\n",
      "Requirement already satisfied: nvidia-curand-cu11==10.2.10.91; platform_system == \"Linux\" and platform_machine == \"x86_64\" in /usr/local/lib/python3.10/dist-packages (from torch) (10.2.10.91)\n",
      "Requirement already satisfied: nvidia-cusolver-cu11==11.4.0.1; platform_system == \"Linux\" and platform_machine == \"x86_64\" in /usr/local/lib/python3.10/dist-packages (from torch) (11.4.0.1)\n",
      "Requirement already satisfied: nvidia-cudnn-cu11==8.5.0.96; platform_system == \"Linux\" and platform_machine == \"x86_64\" in /usr/local/lib/python3.10/dist-packages (from torch) (8.5.0.96)\n",
      "Requirement already satisfied: nvidia-nccl-cu11==2.14.3; platform_system == \"Linux\" and platform_machine == \"x86_64\" in /usr/local/lib/python3.10/dist-packages (from torch) (2.14.3)\n",
      "Requirement already satisfied: jinja2 in /usr/local/lib/python3.10/dist-packages (from torch) (3.1.2)\n",
      "Requirement already satisfied: nvidia-cublas-cu11==11.10.3.66; platform_system == \"Linux\" and platform_machine == \"x86_64\" in /usr/local/lib/python3.10/dist-packages (from torch) (11.10.3.66)\n",
      "Requirement already satisfied: nvidia-cufft-cu11==10.9.0.58; platform_system == \"Linux\" and platform_machine == \"x86_64\" in /usr/local/lib/python3.10/dist-packages (from torch) (10.9.0.58)\n",
      "Requirement already satisfied: filelock in /usr/local/lib/python3.10/dist-packages (from torch) (3.12.2)\n",
      "Requirement already satisfied: six in /usr/lib/python3/dist-packages (from gdown) (1.14.0)\n",
      "Requirement already satisfied: tqdm in /usr/local/lib/python3.10/dist-packages (from gdown) (4.65.0)\n",
      "Requirement already satisfied: beautifulsoup4 in /usr/local/lib/python3.10/dist-packages (from gdown) (4.12.2)\n",
      "Requirement already satisfied: cmake in /usr/local/lib/python3.10/dist-packages (from triton==2.0.0; platform_system == \"Linux\" and platform_machine == \"x86_64\"->torch) (3.26.4)\n",
      "Requirement already satisfied: lit in /usr/local/lib/python3.10/dist-packages (from triton==2.0.0; platform_system == \"Linux\" and platform_machine == \"x86_64\"->torch) (16.0.6)\n",
      "Requirement already satisfied: setuptools in /usr/lib/python3/dist-packages (from nvidia-nvtx-cu11==11.7.91; platform_system == \"Linux\" and platform_machine == \"x86_64\"->torch) (45.2.0)\n",
      "Requirement already satisfied: wheel in /usr/lib/python3/dist-packages (from nvidia-nvtx-cu11==11.7.91; platform_system == \"Linux\" and platform_machine == \"x86_64\"->torch) (0.34.2)\n",
      "Requirement already satisfied: mpmath>=0.19 in /usr/local/lib/python3.10/dist-packages (from sympy->torch) (1.3.0)\n",
      "Requirement already satisfied: MarkupSafe>=2.0 in /usr/local/lib/python3.10/dist-packages (from jinja2->torch) (2.1.3)\n",
      "Requirement already satisfied: soupsieve>1.2 in /usr/local/lib/python3.10/dist-packages (from beautifulsoup4->gdown) (2.4.1)\n",
      "\u001b[33mWARNING: You are using pip version 20.0.2; however, version 23.1.2 is available.\n",
      "You should consider upgrading via the '/usr/bin/python -m pip install --upgrade pip' command.\u001b[0m\n"
     ]
    }
   ],
   "source": [
    "# ライブラリをインストール\n",
    "!pip install pillow matplotlib numpy torchvision opencv-contrib-python scikit-image torch gdown"
   ]
  },
  {
   "cell_type": "code",
   "execution_count": 10,
   "metadata": {},
   "outputs": [
    {
     "name": "stdout",
     "output_type": "stream",
     "text": [
      "fatal: destination path 'BoostYourOwnDepth' already exists and is not an empty directory.\n",
      "--2023-06-26 01:11:36--  https://sfu.ca/~yagiz/CVPR21/latest_net_G.pth\n",
      "sfu.ca (sfu.ca) をDNSに問いあわせています... 142.58.103.137, 142.58.103.55, 142.58.228.150, ...\n",
      "sfu.ca (sfu.ca)|142.58.103.137|:443 に接続しています... 接続しました。\n",
      "SSL による接続が確立できません。\n",
      "latest_net_G.pth\n"
     ]
    }
   ],
   "source": [
    "# Code section 1\n",
    "\n",
    "# Clone repo\n",
    "!git clone https://github.com/compphoto/BoostYourOwnDepth.git\n",
    "\n",
    "# Downloading merge model weights\n",
    "!mkdir -p /app/src/BoostYourOwnDepth/pix2pix/checkpoints/mergemodel/\n",
    "# これダウンロードされない場合はここから持ってこれます https://www.sfu.ca/~yagiz/CVPR21/\n",
    "!wget -c https://sfu.ca/~yagiz/CVPR21/latest_net_G.pth -O /app/src/BoostYourOwnDepth/pix2pix/checkpoints/mergemodel/latest_net_G.pth\n",
    "!gdown https://drive.google.com/u/0/uc?id=1cU2y-kMbt0Sf00Ns4CN2oO9qPJ8BensP&export=download\n",
    "\n",
    "!ls /app/src/BoostYourOwnDepth/pix2pix/checkpoints/mergemodel/\n"
   ]
  },
  {
   "cell_type": "code",
   "execution_count": null,
   "metadata": {},
   "outputs": [],
   "source": [
    "Section 2\n",
    "\n",
    "次のセクションを実行して、選択した画像のR20解像度を計算してください。重要な点：これは実際のデプス推定を行いません。"
   ]
  },
  {
   "cell_type": "code",
   "execution_count": 11,
   "metadata": {},
   "outputs": [
    {
     "name": "stdout",
     "output_type": "stream",
     "text": [
      "/app/src\n"
     ]
    }
   ],
   "source": [
    "%cd /app/src/\n",
    "\n",
    "# Code section 2\n",
    "# np.float) → np.float.64)\n",
    "from BoostYourOwnDepth.utils import calculateprocessingres, read_image\n",
    "import os\n",
    "\n",
    "############################################################################\n",
    "#### Set the image name that you want to optimize for, must be present in /content/BoostYourOwnDepth/input/rgb ######################\n",
    "image_name = 'test_01.jpg'\n",
    "############################################################################\n",
    "\n",
    "image_path = os.path.join('/app/src/BoostYourOwnDepth/input/rgb',image_name)\n",
    "img = read_image(image_path)\n",
    "\n",
    "# Hyperparameters\n",
    "whole_size_threshold = 3000  # R_max from the paper\n",
    "r_threshold_value = 0.2 # Value x of R_x defined in the section 5 of the main paper.\n",
    "scale_threshold = 3  # Allows up-scaling with a scale up to 3\n",
    "\n",
    "##########################################################################\n",
    "##### Fill in the receptive field size of your network here ##############\n",
    "net_receptive_field_size = 100\n",
    "##########################################################################\n",
    "\n",
    "# Find the best input resolution R-x. The resolution search described in section 5-double estimation of the main paper and section B of the\n",
    "# supplementary material.\n",
    "whole_image_optimal_size, _ = calculateprocessingres(img, net_receptive_field_size,r_threshold_value, scale_threshold, whole_size_threshold)"
   ]
  },
  {
   "cell_type": "code",
   "execution_count": null,
   "metadata": {},
   "outputs": [],
   "source": [
    "Section 3\n",
    "\n",
    "「/app/src/BoostYourOwnDepth/input/」内の対応するフォルダに低解像度のデプスマップと高解像度のデプスマップを配置してください。その後、次のセクションを実行してマージされた推定を生成することができます。このセクションでは、入力からダブル推定を作成するために、マージングネットワークを単一のパスで実行します。重要な点：読み取りエラーを回避するために、高解像度と低解像度のファイル名が同じであることを確認してください。"
   ]
  },
  {
   "cell_type": "code",
   "execution_count": 10,
   "metadata": {},
   "outputs": [
    {
     "name": "stdout",
     "output_type": "stream",
     "text": [
      "device: cuda\n",
      "Namespace(data_dir='/app/src/BoostYourOwnDepth/input/', output_dir='/app/src/BoostYourOwnDepth/output', checkpoints_dir='/app/src/BoostYourOwnDepth/pix2pix/checkpoints', output_resolution=1, pix2pixsize=1024, colorize_results=True, max_res=inf)\n",
      "----------------- Options ---------------\n",
      "                    Final: False                         \n",
      "                       R0: False                         \n",
      "                      R20: False                         \n",
      "             aspect_ratio: 1.0                           \n",
      "               batch_size: 1                             \n",
      "          checkpoints_dir: /app/src/BoostYourOwnDepth/pix2pix/checkpoints\t[default: ./pix2pix/checkpoints]\n",
      "         colorize_results: True                          \t[default: False]\n",
      "                crop_size: 672                           \n",
      "                 data_dir: /app/src/BoostYourOwnDepth/input/\t[default: None]\n",
      "                 dataroot: None                          \n",
      "             dataset_mode: depthmerge                    \n",
      "                 depthNet: None                          \n",
      "                direction: AtoB                          \n",
      "          display_winsize: 256                           \n",
      "                    epoch: latest                        \n",
      "                     eval: False                         \n",
      "            generatevideo: None                          \n",
      "                  gpu_ids: 0                             \n",
      "                init_gain: 0.02                          \n",
      "                init_type: normal                        \n",
      "                 input_nc: 2                             \n",
      "                  isTrain: False                         \t[default: None]\n",
      "                load_iter: 0                             \t[default: 0]\n",
      "                load_size: 672                           \n",
      "         max_dataset_size: 10000                         \n",
      "                  max_res: inf                           \n",
      "                    model: pix2pix4depth                 \n",
      "               n_layers_D: 3                             \n",
      "                     name: void                          \n",
      "                      ndf: 64                            \n",
      "                     netD: basic                         \n",
      "                     netG: unet_1024                     \n",
      " net_receptive_field_size: None                          \n",
      "                      ngf: 64                            \n",
      "               no_dropout: False                         \n",
      "                  no_flip: False                         \n",
      "                     norm: none                          \n",
      "                 num_test: 50                            \n",
      "              num_threads: 4                             \n",
      "               output_dir: /app/src/BoostYourOwnDepth/output\t[default: None]\n",
      "                output_nc: 1                             \n",
      "        output_resolution: None                          \n",
      "                    phase: test                          \n",
      "              pix2pixsize: None                          \n",
      "               preprocess: resize_and_crop               \n",
      "                savecrops: None                          \n",
      "             savewholeest: None                          \n",
      "           serial_batches: False                         \n",
      "                   suffix:                               \n",
      "                  verbose: False                         \n",
      "----------------- End -------------------\n",
      "initialize network with normal\n",
      "loading the model from /app/src/BoostYourOwnDepth/pix2pix/checkpoints/mergemodel/latest_net_G.pth\n",
      "start processing\n",
      "processing image 0 : /app/src/BoostYourOwnDepth/input/low-res/Lunch_atop_a_Skyscraper\n",
      "\n",
      "(1543, 2000)\n",
      "processing image 1 : /app/src/BoostYourOwnDepth/input/low-res/Lunch_atop_a_Skyscraper_mix\n",
      "\n",
      "(1543, 2000)\n",
      "processing image 2 : /app/src/BoostYourOwnDepth/input/low-res/Motorcycle-perfect\n",
      "\n",
      "(2000, 2964)\n",
      "finished\n"
     ]
    }
   ],
   "source": [
    "# Code section 3\n",
    "!python3 /app/src/BoostYourOwnDepth/boost_depth.py --data_dir /app/src/BoostYourOwnDepth/input/ --output_dir /app/src/BoostYourOwnDepth/output --checkpoints_dir /app/src/BoostYourOwnDepth/pix2pix/checkpoints --colorize_results"
   ]
  },
  {
   "cell_type": "code",
   "execution_count": null,
   "metadata": {},
   "outputs": [],
   "source": [
    "自由に実験してみてください！\n",
    "たとえば、入力のデプスマップを編集したり、異なるデプス推定器を組み合わせたり、独自のモデルを使用したりすることができます。"
   ]
  }
 ],
 "metadata": {
  "kernelspec": {
   "display_name": "Python 3 (ipykernel)",
   "language": "python",
   "name": "python3"
  },
  "language_info": {
   "codemirror_mode": {
    "name": "ipython",
    "version": 3
   },
   "file_extension": ".py",
   "mimetype": "text/x-python",
   "name": "python",
   "nbconvert_exporter": "python",
   "pygments_lexer": "ipython3",
   "version": "3.10.12"
  }
 },
 "nbformat": 4,
 "nbformat_minor": 2
}
